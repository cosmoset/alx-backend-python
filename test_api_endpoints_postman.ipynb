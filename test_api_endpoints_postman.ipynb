{
 "cells": [
  {
   "cell_type": "markdown",
   "id": "c41acb73",
   "metadata": {},
   "source": [
    "# Test API Endpoints Using Postman for a Messaging App\n",
    "This notebook provides a guide to testing API endpoints for a messaging app using Postman."
   ]
  },
  {
   "cell_type": "markdown",
   "id": "f2271bf9",
   "metadata": {},
   "source": [
    "## Setup Postman Environment\n",
    "Explain how to configure Postman with the base URL and environment variables for the API endpoints."
   ]
  },
  {
   "cell_type": "markdown",
   "id": "82d5b07e",
   "metadata": {},
   "source": [
    "1. Open Postman and navigate to the **Environments** tab.\n",
    "2. Create a new environment and define variables such as:\n",
    "   - `base_url`: The base URL of the API (e.g., `http://localhost:5000`).\n",
    "   - `jwt_token`: Placeholder for the JWT token to be used in authenticated requests.\n",
    "3. Save the environment and ensure it is selected in the top-right dropdown."
   ]
  },
  {
   "cell_type": "markdown",
   "id": "3ca74c17",
   "metadata": {},
   "source": [
    "## Test Creating a Conversation\n",
    "Demonstrate how to use Postman to send a POST request to create a new conversation, including the required payload and headers."
   ]
  },
  {
   "cell_type": "code",
   "execution_count": null,
   "id": "0c0071f1",
   "metadata": {
    "vscode": {
     "languageId": "plaintext"
    }
   },
   "outputs": [],
   "source": []
  },
  {
   "cell_type": "code",
   "execution_count": null,
   "id": "f772113e",
   "metadata": {
    "vscode": {
     "languageId": "plaintext"
    }
   },
   "outputs": [],
   "source": []
  },
  {
   "cell_type": "markdown",
   "id": "05ae1f1a",
   "metadata": {},
   "source": [
    "1. Create a new request in Postman and set the method to **POST**.\n",
    "2. Set the URL to `{{base_url}}/conversations`.\n",
    "3. In the **Headers** tab, add:\n",
    "   - `Content-Type`: `application/json`\n",
    "   - `Authorization`: `Bearer {{jwt_token}}` (if authentication is required).\n",
    "4. In the **Body** tab, select **raw** and provide the following JSON payload:\n",
    "   ```json\n",
    "   {\n",
    "       \"name\": \"Project Discussion\",\n",
    "       \"participants\": [\"user1@example.com\", \"user2@example.com\"]\n",
    "   }\n",
    "   ```\n",
    "5. Send the request and verify the response contains the conversation details."
   ]
  },
  {
   "cell_type": "markdown",
   "id": "8bb92de5",
   "metadata": {},
   "source": [
    "## Test Sending Messages\n",
    "Show how to use Postman to send a POST request to add messages to a conversation, including the necessary payload and headers."
   ]
  },
  {
   "cell_type": "markdown",
   "id": "731a357a",
   "metadata": {},
   "source": [
    "1. Create a new request in Postman and set the method to **POST**.\n",
    "2. Set the URL to `{{base_url}}/conversations/{conversation_id}/messages`.\n",
    "3. In the **Headers** tab, add:\n",
    "   - `Content-Type`: `application/json`\n",
    "   - `Authorization`: `Bearer {{jwt_token}}`.\n",
    "4. In the **Body** tab, select **raw** and provide the following JSON payload:\n",
    "   ```json\n",
    "   {\n",
    "       \"sender\": \"user1@example.com\",\n",
    "       \"message\": \"Hello, team! Let's discuss the project.\"\n",
    "   }\n",
    "   ```\n",
    "5. Send the request and verify the response contains the message details."
   ]
  },
  {
   "cell_type": "markdown",
   "id": "a6dd8af8",
   "metadata": {},
   "source": [
    "## Test Fetching Conversations\n",
    "Illustrate how to use Postman to send a GET request to fetch all conversations or a specific conversation by ID."
   ]
  },
  {
   "cell_type": "markdown",
   "id": "b399d82f",
   "metadata": {},
   "source": [
    "1. To fetch all conversations:\n",
    "   - Create a new request in Postman and set the method to **GET**.\n",
    "   - Set the URL to `{{base_url}}/conversations`.\n",
    "   - Add the `Authorization` header: `Bearer {{jwt_token}}`.\n",
    "   - Send the request and verify the response contains a list of conversations.\n",
    "2. To fetch a specific conversation:\n",
    "   - Set the URL to `{{base_url}}/conversations/{conversation_id}`.\n",
    "   - Add the same headers as above.\n",
    "   - Send the request and verify the response contains the conversation details."
   ]
  },
  {
   "cell_type": "markdown",
   "id": "13c7ad5b",
   "metadata": {},
   "source": [
    "## Test Authentication with JWT Token\n",
    "Explain how to use Postman to send a login request, retrieve a JWT token, and include it in the Authorization header for subsequent requests."
   ]
  },
  {
   "cell_type": "markdown",
   "id": "00a22233",
   "metadata": {},
   "source": [
    "1. Create a new request in Postman and set the method to **POST**.\n",
    "2. Set the URL to `{{base_url}}/auth/login`.\n",
    "3. In the **Body** tab, select **raw** and provide the following JSON payload:\n",
    "   ```json\n",
    "   {\n",
    "       \"email\": \"user1@example.com\",\n",
    "       \"password\": \"securepassword\"\n",
    "   }\n",
    "   ```\n",
    "4. Send the request and copy the `token` value from the response.\n",
    "5. Update the `jwt_token` variable in your Postman environment with the copied token.\n",
    "6. Use this token in the `Authorization` header for subsequent requests."
   ]
  },
  {
   "cell_type": "markdown",
   "id": "9eeb06fb",
   "metadata": {},
   "source": [
    "## Test Unauthorized Access to Private Conversations\n",
    "Demonstrate how to test unauthorized access by omitting the JWT token or using an invalid token, and verify that the API returns the appropriate error response."
   ]
  },
  {
   "cell_type": "markdown",
   "id": "9026ee28",
   "metadata": {},
   "source": [
    "1. Create a new request in Postman and set the method to **GET**.\n",
    "2. Set the URL to `{{base_url}}/conversations/{conversation_id}`.\n",
    "3. Do not include the `Authorization` header or use an invalid token.\n",
    "4. Send the request and verify the response contains an error message, such as:\n",
    "   ```json\n",
    "   {\n",
    "       \"error\": \"Unauthorized\",\n",
    "       \"message\": \"Authentication token is missing or invalid.\"\n",
    "   }\n",
    "   ```\n",
    "5. Confirm that the API returns the appropriate HTTP status code (e.g., 401 Unauthorized)."
   ]
  }
 ],
 "metadata": {
  "language_info": {
   "name": "python"
  }
 },
 "nbformat": 4,
 "nbformat_minor": 5
}
